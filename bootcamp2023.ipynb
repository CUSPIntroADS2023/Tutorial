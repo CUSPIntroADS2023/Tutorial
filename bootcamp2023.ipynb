{
 "cells": [
  {
   "cell_type": "code",
   "execution_count": 5,
   "id": "52e92110",
   "metadata": {},
   "outputs": [],
   "source": [
    "import numpy as np\n",
    "from scipy import stats\n",
    "import matplotlib.pyplot as plt"
   ]
  },
  {
   "cell_type": "markdown",
   "id": "bad3cba3",
   "metadata": {},
   "source": [
    "## Binomial distribution\n",
    "\n",
    "For each incoming tourist to NYC there is a 40% chance they visit Brooklyn. Out of 1000 tourists, what is the chance that at least 400 come to Brooklyn?"
   ]
  },
  {
   "cell_type": "code",
   "execution_count": 7,
   "id": "dbb7f01b",
   "metadata": {},
   "outputs": [
    {
     "data": {
      "text/plain": [
       "0.010240000000000008"
      ]
     },
     "execution_count": 7,
     "metadata": {},
     "output_type": "execute_result"
    }
   ],
   "source": [
    "#first lets see how the percentage look for 5 tourists - what is the chance all of them come to Brooklyn? None of them? Other?\n",
    "p = 0.4\n",
    "n = 5\n",
    "stats.binom.pmf(5, p=p, n=n)"
   ]
  },
  {
   "cell_type": "code",
   "execution_count": 11,
   "id": "e63f9e4b",
   "metadata": {},
   "outputs": [
    {
     "data": {
      "text/plain": [
       "array([0.07776, 0.2592 , 0.3456 , 0.2304 , 0.0768 , 0.01024])"
      ]
     },
     "execution_count": 11,
     "metadata": {},
     "output_type": "execute_result"
    }
   ],
   "source": [
    "x = np.arange(6)\n",
    "stats.binom.pmf(x, p=p, n=n)"
   ]
  },
  {
   "cell_type": "code",
   "execution_count": 12,
   "id": "2af27d6e",
   "metadata": {},
   "outputs": [
    {
     "data": {
      "text/plain": [
       "<BarContainer object of 6 artists>"
      ]
     },
     "execution_count": 12,
     "metadata": {},
     "output_type": "execute_result"
    },
    {
     "data": {
      "image/png": "[encoded data removed]",
      "text/plain": [
       "<Figure size 432x288 with 1 Axes>"
      ]
     },
     "metadata": {
      "needs_background": "light"
     },
     "output_type": "display_data"
    }
   ],
   "source": [
    "plt.bar(x, stats.binom.pmf(x, p=p, n=n))"
   ]
  },
  {
   "cell_type": "code",
   "execution_count": 17,
   "id": "c607bd01",
   "metadata": {},
   "outputs": [
    {
     "data": {
      "text/plain": [
       "0.5120149605139528"
      ]
     },
     "execution_count": 17,
     "metadata": {},
     "output_type": "execute_result"
    }
   ],
   "source": [
    "p = 0.4\n",
    "n = 1000\n",
    "1 - stats.binom.cdf(399, p=p, n=n)"
   ]
  },
  {
   "cell_type": "code",
   "execution_count": 20,
   "id": "e3f8c880",
   "metadata": {},
   "outputs": [
    {
     "data": {
      "text/plain": [
       "0.2485986503457296"
      ]
     },
     "execution_count": 20,
     "metadata": {},
     "output_type": "execute_result"
    }
   ],
   "source": [
    "1 - stats.binom.cdf(410, p=p, n=n)"
   ]
  },
  {
   "cell_type": "code",
   "execution_count": 21,
   "id": "1b2b94e3",
   "metadata": {},
   "outputs": [
    {
     "data": {
      "text/plain": [
       "0.09312484524461229"
      ]
     },
     "execution_count": 21,
     "metadata": {},
     "output_type": "execute_result"
    }
   ],
   "source": [
    "1 - stats.binom.cdf(420, p=p, n=n)"
   ]
  },
  {
   "cell_type": "markdown",
   "id": "5179e7b8",
   "metadata": {},
   "source": [
    "# Poisson distribution"
   ]
  },
  {
   "cell_type": "markdown",
   "id": "32d6e8f5",
   "metadata": {},
   "source": [
    "The cars are passing an intersection with the average intensity of one car every 4 seconds. How many on average should you expect to pass over an hour?"
   ]
  },
  {
   "cell_type": "code",
   "execution_count": 28,
   "id": "02d9cad5",
   "metadata": {},
   "outputs": [],
   "source": [
    "mu = 60 * 60 / 4"
   ]
  },
  {
   "cell_type": "markdown",
   "id": "62e2d683",
   "metadata": {},
   "source": [
    "If the max throughput is 1000 per hour without congestion, what is the chance it will get exceeded?"
   ]
  },
  {
   "cell_type": "code",
   "execution_count": 31,
   "id": "2be77213",
   "metadata": {},
   "outputs": [
    {
     "data": {
      "text/plain": [
       "0.0004906327328575433"
      ]
     },
     "execution_count": 31,
     "metadata": {},
     "output_type": "execute_result"
    }
   ],
   "source": [
    "1 - stats.poisson.cdf(1000, mu = mu)"
   ]
  },
  {
   "cell_type": "markdown",
   "id": "73b42cac",
   "metadata": {},
   "source": [
    "# Summer temperature readings"
   ]
  },
  {
   "cell_type": "code",
   "execution_count": 68,
   "id": "106fdfbf",
   "metadata": {},
   "outputs": [],
   "source": [
    "np.random.seed(1)\n",
    "T = np.random.normal(loc = 77, scale = 10, size = 10000)"
   ]
  },
  {
   "cell_type": "code",
   "execution_count": 69,
   "id": "4e7b0d06",
   "metadata": {},
   "outputs": [
    {
     "data": {
      "text/plain": [
       "array([93.24345364, 70.88243586, 71.71828248, ..., 66.85856184,\n",
       "       76.37303774, 62.62130107])"
      ]
     },
     "execution_count": 69,
     "metadata": {},
     "output_type": "execute_result"
    }
   ],
   "source": [
    "T"
   ]
  },
  {
   "cell_type": "code",
   "execution_count": 70,
   "id": "d9e52289",
   "metadata": {},
   "outputs": [
    {
     "data": {
      "text/plain": [
       "77.09772656699104"
      ]
     },
     "execution_count": 70,
     "metadata": {},
     "output_type": "execute_result"
    }
   ],
   "source": [
    "T.mean()"
   ]
  },
  {
   "cell_type": "code",
   "execution_count": 71,
   "id": "51870662",
   "metadata": {},
   "outputs": [
    {
     "data": {
      "text/plain": [
       "9.987858436880485"
      ]
     },
     "execution_count": 71,
     "metadata": {},
     "output_type": "execute_result"
    }
   ],
   "source": [
    "T.std()"
   ]
  },
  {
   "cell_type": "code",
   "execution_count": 72,
   "id": "fc1b7554",
   "metadata": {},
   "outputs": [],
   "source": [
    "T0 = np.random.choice(T, 300)"
   ]
  },
  {
   "cell_type": "code",
   "execution_count": 73,
   "id": "e01a34e0",
   "metadata": {},
   "outputs": [
    {
     "data": {
      "text/plain": [
       "77.32230218444178"
      ]
     },
     "execution_count": 73,
     "metadata": {},
     "output_type": "execute_result"
    }
   ],
   "source": [
    "mu = T0.mean(); mu"
   ]
  },
  {
   "cell_type": "code",
   "execution_count": 74,
   "id": "fb6182bf",
   "metadata": {},
   "outputs": [
    {
     "data": {
      "text/plain": [
       "9.683643226392643"
      ]
     },
     "execution_count": 74,
     "metadata": {},
     "output_type": "execute_result"
    }
   ],
   "source": [
    "sigma = T0.std(); sigma"
   ]
  },
  {
   "cell_type": "code",
   "execution_count": 75,
   "id": "9ea4dc0b",
   "metadata": {},
   "outputs": [
    {
     "data": {
      "text/plain": [
       "0.2247791579941089"
      ]
     },
     "execution_count": 75,
     "metadata": {},
     "output_type": "execute_result"
    }
   ],
   "source": [
    "#colder than 70\n",
    "stats.norm.cdf(70, loc = mu, scale = sigma)"
   ]
  },
  {
   "cell_type": "code",
   "execution_count": 76,
   "id": "88cabbf2",
   "metadata": {},
   "outputs": [
    {
     "data": {
      "text/plain": [
       "0.2368"
      ]
     },
     "execution_count": 76,
     "metadata": {},
     "output_type": "execute_result"
    }
   ],
   "source": [
    "(T < 70).mean()"
   ]
  },
  {
   "cell_type": "code",
   "execution_count": 77,
   "id": "4594834b",
   "metadata": {},
   "outputs": [
    {
     "data": {
      "text/plain": [
       "0.09523554248259636"
      ]
     },
     "execution_count": 77,
     "metadata": {},
     "output_type": "execute_result"
    }
   ],
   "source": [
    "#hotter than 90\n",
    "1 - stats.norm.cdf(90, loc = mu, scale = sigma)"
   ]
  },
  {
   "cell_type": "code",
   "execution_count": 78,
   "id": "bd238fd9",
   "metadata": {},
   "outputs": [
    {
     "data": {
      "text/plain": [
       "0.0982"
      ]
     },
     "execution_count": 78,
     "metadata": {},
     "output_type": "execute_result"
    }
   ],
   "source": [
    "(T > 90).mean()"
   ]
  },
  {
   "cell_type": "code",
   "execution_count": 79,
   "id": "a5a61091",
   "metadata": {},
   "outputs": [
    {
     "data": {
      "text/plain": [
       "0.009594058775099334"
      ]
     },
     "execution_count": 79,
     "metadata": {},
     "output_type": "execute_result"
    }
   ],
   "source": [
    "1 - stats.norm.cdf(100, loc = mu, scale = sigma)"
   ]
  },
  {
   "cell_type": "code",
   "execution_count": 80,
   "id": "614f4652",
   "metadata": {},
   "outputs": [
    {
     "data": {
      "text/plain": [
       "0.0103"
      ]
     },
     "execution_count": 80,
     "metadata": {},
     "output_type": "execute_result"
    }
   ],
   "source": [
    "(T > 100).mean()"
   ]
  },
  {
   "cell_type": "code",
   "execution_count": 81,
   "id": "56bbad5c",
   "metadata": {},
   "outputs": [
    {
     "data": {
      "text/plain": [
       "0.5612888716742102"
      ]
     },
     "execution_count": 81,
     "metadata": {},
     "output_type": "execute_result"
    }
   ],
   "source": [
    "stats.norm.cdf(85, loc = mu, scale = sigma) - stats.norm.cdf(70, loc = mu, scale = sigma)"
   ]
  },
  {
   "cell_type": "code",
   "execution_count": 82,
   "id": "ec918fe1",
   "metadata": {},
   "outputs": [
    {
     "data": {
      "text/plain": [
       "0.5523"
      ]
     },
     "execution_count": 82,
     "metadata": {},
     "output_type": "execute_result"
    }
   ],
   "source": [
    "((T > 70) * (T < 85)).mean()"
   ]
  },
  {
   "cell_type": "code",
   "execution_count": 86,
   "id": "835bd553",
   "metadata": {},
   "outputs": [
    {
     "data": {
      "text/plain": [
       "<matplotlib.lines.Line2D at 0x7ff250a28f10>"
      ]
     },
     "execution_count": 86,
     "metadata": {},
     "output_type": "execute_result"
    },
    {
     "data": {
      "image/png": "[encoded data removed]",
      "text/plain": [
       "<Figure size 432x288 with 1 Axes>"
      ]
     },
     "metadata": {
      "needs_background": "light"
     },
     "output_type": "display_data"
    }
   ],
   "source": [
    "plt.figure()\n",
    "x = np.arange(30, 120, 0.25)\n",
    "plt.bar(x, stats.norm.pdf(x, loc = mu, scale = sigma))\n",
    "\n",
    "plt.axvline(mu, color='r', ls='--', lw=2.0)\n",
    "plt.axvline(mu-sigma, color='y', ls='--', lw=2.0)\n",
    "plt.axvline(mu+sigma, color='y', ls='--', lw=2.0)\n",
    "plt.axvline(mu-2*sigma, color='y', ls='--', lw=2.0)\n",
    "plt.axvline(mu+2*sigma, color='y', ls='--', lw=2.0)\n"
   ]
  },
  {
   "cell_type": "code",
   "execution_count": 94,
   "id": "15f6e28e",
   "metadata": {},
   "outputs": [
    {
     "data": {
      "text/plain": [
       "(30.0, 120.0)"
      ]
     },
     "execution_count": 94,
     "metadata": {},
     "output_type": "execute_result"
    },
    {
     "data": {
      "image/png": "[encoded data removed]",
      "text/plain": [
       "<Figure size 432x288 with 1 Axes>"
      ]
     },
     "metadata": {
      "needs_background": "light"
     },
     "output_type": "display_data"
    }
   ],
   "source": [
    "plt.hist(T, bins = 30);\n",
    "plt.xlim(30,120)"
   ]
  },
  {
   "cell_type": "code",
   "execution_count": null,
   "id": "7527f25d",
   "metadata": {},
   "outputs": [],
   "source": []
  }
 ],
 "metadata": {
  "kernelspec": {
   "display_name": "Python 3 (ipykernel)",
   "language": "python",
   "name": "python3"
  },
  "language_info": {
   "codemirror_mode": {
    "name": "ipython",
    "version": 3
   },
   "file_extension": ".py",
   "mimetype": "text/x-python",
   "name": "python",
   "nbconvert_exporter": "python",
   "pygments_lexer": "ipython3",
   "version": "3.7.11"
  }
 },
 "nbformat": 4,
 "nbformat_minor": 5
}
